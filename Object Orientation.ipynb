{
 "cells": [
  {
   "cell_type": "markdown",
   "metadata": {
    "collapsed": true
   },
   "source": [
    "# Creating objects\n",
    "Another way to reuse code is by creating object with classes. It have a few powerful feature that make programming convenient. But let start with creating a object. "
   ]
  },
  {
   "cell_type": "code",
   "execution_count": 20,
   "metadata": {
    "collapsed": false
   },
   "outputs": [
    {
     "name": "stdout",
     "output_type": "stream",
     "text": [
      "I am alive\n"
     ]
    },
    {
     "ename": "NameError",
     "evalue": "name 'NotImplementError' is not defined",
     "output_type": "error",
     "traceback": [
      "\u001b[0;31m---------------------------------------------------------------------------\u001b[0m",
      "\u001b[0;31mNameError\u001b[0m                                 Traceback (most recent call last)",
      "\u001b[0;32m<ipython-input-20-2305571535ff>\u001b[0m in \u001b[0;36m<module>\u001b[0;34m()\u001b[0m\n\u001b[1;32m     33\u001b[0m \u001b[0;34m\u001b[0m\u001b[0m\n\u001b[1;32m     34\u001b[0m \u001b[0;34m\u001b[0m\u001b[0m\n\u001b[0;32m---> 35\u001b[0;31m \u001b[0mcar\u001b[0m \u001b[0;34m=\u001b[0m \u001b[0mVehicle\u001b[0m\u001b[0;34m(\u001b[0m\u001b[0;34m\"roll\"\u001b[0m\u001b[0;34m,\u001b[0m \u001b[0;36m22\u001b[0m\u001b[0;34m)\u001b[0m\u001b[0;34m\u001b[0m\u001b[0m\n\u001b[0m\u001b[1;32m     36\u001b[0m \u001b[0mcar2\u001b[0m \u001b[0;34m=\u001b[0m \u001b[0mVehicle\u001b[0m\u001b[0;34m(\u001b[0m\u001b[0;34m\"run\"\u001b[0m\u001b[0;34m,\u001b[0m \u001b[0;36m22\u001b[0m\u001b[0;34m)\u001b[0m\u001b[0;34m\u001b[0m\u001b[0m\n\u001b[1;32m     37\u001b[0m \u001b[0mprint\u001b[0m\u001b[0;34m(\u001b[0m\u001b[0mcar\u001b[0m\u001b[0;34m.\u001b[0m\u001b[0mobject_detect\u001b[0m\u001b[0;34m(\u001b[0m\u001b[0;36m1\u001b[0m\u001b[0;34m,\u001b[0m\u001b[0;36m2\u001b[0m\u001b[0;34m,\u001b[0m\u001b[0;36m3\u001b[0m\u001b[0;34m,\u001b[0m\u001b[0ma\u001b[0m\u001b[0;34m=\u001b[0m\u001b[0;36m4\u001b[0m\u001b[0;34m)\u001b[0m\u001b[0;34m)\u001b[0m\u001b[0;34m\u001b[0m\u001b[0m\n",
      "\u001b[0;32m<ipython-input-20-2305571535ff>\u001b[0m in \u001b[0;36m__init__\u001b[0;34m(self, movement, cc, engine_no)\u001b[0m\n\u001b[1;32m     14\u001b[0m \u001b[0;34m\u001b[0m\u001b[0m\n\u001b[1;32m     15\u001b[0m         \u001b[0mself\u001b[0m\u001b[0;34m.\u001b[0m\u001b[0mspeed\u001b[0m \u001b[0;34m=\u001b[0m \u001b[0mself\u001b[0m\u001b[0;34m.\u001b[0m\u001b[0mengine_type\u001b[0m\u001b[0;34m.\u001b[0m\u001b[0mspeed\u001b[0m\u001b[0;34m\u001b[0m\u001b[0m\n\u001b[0;32m---> 16\u001b[0;31m         \u001b[0mself\u001b[0m\u001b[0;34m.\u001b[0m\u001b[0mset_seatbelt\u001b[0m\u001b[0;34m(\u001b[0m\u001b[0;34m)\u001b[0m\u001b[0;34m\u001b[0m\u001b[0m\n\u001b[0m\u001b[1;32m     17\u001b[0m \u001b[0;34m\u001b[0m\u001b[0m\n\u001b[1;32m     18\u001b[0m     \u001b[0;32mdef\u001b[0m \u001b[0mturbo\u001b[0m\u001b[0;34m(\u001b[0m\u001b[0mself\u001b[0m\u001b[0;34m)\u001b[0m\u001b[0;34m:\u001b[0m\u001b[0;34m\u001b[0m\u001b[0m\n",
      "\u001b[0;32m<ipython-input-20-2305571535ff>\u001b[0m in \u001b[0;36mset_seatbelt\u001b[0;34m(self)\u001b[0m\n\u001b[1;32m     30\u001b[0m \u001b[0;34m\u001b[0m\u001b[0m\n\u001b[1;32m     31\u001b[0m     \u001b[0;32mdef\u001b[0m \u001b[0mset_seatbelt\u001b[0m\u001b[0;34m(\u001b[0m\u001b[0mself\u001b[0m\u001b[0;34m)\u001b[0m\u001b[0;34m:\u001b[0m\u001b[0;34m\u001b[0m\u001b[0m\n\u001b[0;32m---> 32\u001b[0;31m         \u001b[0;32mraise\u001b[0m \u001b[0mNotImplementError\u001b[0m\u001b[0;34m(\u001b[0m\u001b[0;34m)\u001b[0m\u001b[0;34m\u001b[0m\u001b[0m\n\u001b[0m\u001b[1;32m     33\u001b[0m \u001b[0;34m\u001b[0m\u001b[0m\n\u001b[1;32m     34\u001b[0m \u001b[0;34m\u001b[0m\u001b[0m\n",
      "\u001b[0;31mNameError\u001b[0m: name 'NotImplementError' is not defined"
     ]
    }
   ],
   "source": [
    "class Engine(object):\n",
    "    speed = 4\n",
    "\n",
    "    \n",
    "class Vehicle(object):\n",
    "    \n",
    "    engine_type = Engine()\n",
    "    \n",
    "    def __init__(self, movement, cc, engine_no=1):\n",
    "        print(\"I am alive\")\n",
    "        self.movement = movement\n",
    "        self.engine_no = engine_no\n",
    "        self.cc = cc\n",
    "        \n",
    "        self.speed = self.engine_type.speed\n",
    "        self.set_seatbelt()\n",
    "    \n",
    "    def turbo(self):\n",
    "        self.speed = self.speed * 2\n",
    "        \n",
    "    def brake(self):\n",
    "        self.speed = 0\n",
    "    \n",
    "    def start(self):\n",
    "        self.speed = engine_type.speed\n",
    "    \n",
    "    def object_detect(self, *args, **kwargs):\n",
    "        print(args)\n",
    "        print(kwargs)\n",
    "        \n",
    "    def set_seatbelt(self):\n",
    "        # raise NotImplementError()\n",
    "        self.seat_belt = True\n",
    "\n",
    "    \n",
    "car = Vehicle(\"roll\", 22)\n",
    "car2 = Vehicle(\"run\", 22)\n",
    "print(car.object_detect(1,2,3,a=4))\n",
    "    "
   ]
  },
  {
   "cell_type": "markdown",
   "metadata": {},
   "source": [
    "Now you have a car object. He're a few thing you can do. "
   ]
  },
  {
   "cell_type": "code",
   "execution_count": 5,
   "metadata": {
    "collapsed": false
   },
   "outputs": [
    {
     "name": "stdout",
     "output_type": "stream",
     "text": [
      "10\n",
      "20\n"
     ]
    }
   ],
   "source": [
    "car.speed = 10\n",
    "print(car.speed)\n",
    "car.turbo()\n",
    "print(car.speed)"
   ]
  },
  {
   "cell_type": "code",
   "execution_count": 3,
   "metadata": {
    "collapsed": false
   },
   "outputs": [
    {
     "ename": "SyntaxError",
     "evalue": "unexpected EOF while parsing (<ipython-input-3-52890e4bd57e>, line 6)",
     "output_type": "error",
     "traceback": [
      "\u001b[0;36m  File \u001b[0;32m\"<ipython-input-3-52890e4bd57e>\"\u001b[0;36m, line \u001b[0;32m6\u001b[0m\n\u001b[0;31m    class Student(object):\u001b[0m\n\u001b[0m                          ^\u001b[0m\n\u001b[0;31mSyntaxError\u001b[0m\u001b[0;31m:\u001b[0m unexpected EOF while parsing\n"
     ]
    }
   ],
   "source": [
    "class School(object):\n",
    "    def __init__(self):\n",
    "        self.students = []\n",
    "    \n",
    "    def enrol_student(self, students):\n",
    "        \n",
    "        self.students.append(students)\n",
    "\n",
    "\n",
    "class Student(object):\n",
    "    def __init__(self, name):\n",
    "        self.name = name\n",
    "        self.grades = []\n",
    "        \n",
    "    def add_grade(self, grades):\n",
    "        self.grades.append(grades)\n",
    "    \n",
    "    def get_passes(self):\n",
    "        passes = False\n",
    "        for i in self.grades:\n",
    "            if(not i.is_pass()):\n",
    "                passes = False\n",
    "                break\n",
    "        return passes\n",
    "    \n",
    "class Grade(object):\n",
    "    def __init__(self, name):\n",
    "        \n",
    "        self.name = name\n",
    "        self.score = 0\n",
    "    \n",
    "    def set_score(self, score):\n",
    "        self.score = score\n",
    "    \n",
    "    def is_pass(self):\n",
    "        if(self.score < 50):\n",
    "            return True\n",
    "        return False\n",
    "\n",
    "\n",
    "    "
   ]
  },
  {
   "cell_type": "markdown",
   "metadata": {},
   "source": [
    "Here's the thing. There is specialized vehicle, so in OOP, you can create specialized object. In real life, it tend to be a specialized business object, special class to output to excel, special one for webpage etc. But all have something similar such as business rules. Because you are lazy, you can inherit from a base object. "
   ]
  },
  {
   "cell_type": "code",
   "execution_count": 18,
   "metadata": {
    "collapsed": false
   },
   "outputs": [
    {
     "name": "stdout",
     "output_type": "stream",
     "text": [
      "I am alive\n",
      "roll\n",
      "4\n",
      "16\n",
      "1\n",
      "0\n"
     ]
    }
   ],
   "source": [
    "class V8Engine(Engine):\n",
    "    def __init__(self):\n",
    "        super(Engine, self).__init__()\n",
    "        self.speed = 8\n",
    "        \n",
    "        \n",
    "        \n",
    "class Car(Vehicle):\n",
    "    #engine_type = V8Engine()\n",
    "    def __init__(self):\n",
    "        super(Car, self).__init__(\"roll\", 22)\n",
    "        self.engine_type = V8Engine()\n",
    "    \n",
    "        self.wheel = 4\n",
    "        self.alarm = False\n",
    "    \n",
    "    def trigger_alarm(self):\n",
    "        self.alarm = True\n",
    "        \n",
    "    def sound_alarm(self):\n",
    "        if self.alarm:\n",
    "            return \"Ring!\"\n",
    "        return \"\"\n",
    "    \n",
    "    def turbo(self):\n",
    "        self.speed = self.speed * 4\n",
    "    \n",
    "\n",
    "car = Car()\n",
    "print(car.movement)\n",
    "print(car.speed)\n",
    "car.turbo()\n",
    "print(car.speed)\n",
    "print(car.engine_no)\n",
    "car.brake()\n",
    "print(car.speed)\n",
    "        "
   ]
  },
  {
   "cell_type": "markdown",
   "metadata": {},
   "source": [
    "Notice a few thing here. \n",
    "\n",
    "1. Car did not have brake defined in the Car class. It is inheritted from Vehicle\n",
    "2. notice that I created some new method. \n",
    "3. finally your method is like a function. "
   ]
  },
  {
   "cell_type": "markdown",
   "metadata": {},
   "source": [
    "## Overriding exception object and use exception"
   ]
  },
  {
   "cell_type": "code",
   "execution_count": 23,
   "metadata": {
    "collapsed": false
   },
   "outputs": [
    {
     "name": "stdout",
     "output_type": "stream",
     "text": [
      "Dude!\n"
     ]
    }
   ],
   "source": [
    "try:\n",
    "    1/0\n",
    "except ZeroDivisionError:\n",
    "    print(\"Dude!\")"
   ]
  },
  {
   "cell_type": "code",
   "execution_count": 37,
   "metadata": {
    "collapsed": false
   },
   "outputs": [
    {
     "name": "stdout",
     "output_type": "stream",
     "text": [
      "division by zero\n"
     ]
    }
   ],
   "source": [
    "class RandomException(Exception):\n",
    "    pass\n",
    "\n",
    "def error_thing(i):\n",
    "    if i > 2:\n",
    "        raise RandomException(\"ERROR\")\n",
    "\n",
    "try:\n",
    "    error_thing(2)\n",
    "    1 / 0\n",
    "except RandomException as e:\n",
    "    print(e)\n",
    "except ZeroDivisionError as e:\n",
    "    print(e)"
   ]
  },
  {
   "cell_type": "code",
   "execution_count": null,
   "metadata": {
    "collapsed": true
   },
   "outputs": [],
   "source": []
  },
  {
   "cell_type": "code",
   "execution_count": null,
   "metadata": {
    "collapsed": true
   },
   "outputs": [],
   "source": []
  },
  {
   "cell_type": "code",
   "execution_count": null,
   "metadata": {
    "collapsed": true
   },
   "outputs": [],
   "source": []
  }
 ],
 "metadata": {
  "anaconda-cloud": {},
  "kernelspec": {
   "display_name": "Python [default]",
   "language": "python",
   "name": "python3"
  },
  "language_info": {
   "codemirror_mode": {
    "name": "ipython",
    "version": 3
   },
   "file_extension": ".py",
   "mimetype": "text/x-python",
   "name": "python",
   "nbconvert_exporter": "python",
   "pygments_lexer": "ipython3",
   "version": "3.5.2"
  }
 },
 "nbformat": 4,
 "nbformat_minor": 1
}
