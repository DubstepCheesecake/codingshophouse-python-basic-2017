{
 "cells": [
  {
   "cell_type": "markdown",
   "metadata": {
    "collapsed": true
   },
   "source": [
    "# Creating objects\n",
    "Another way to reuse code is by creating object with classes. It have a few powerful feature that make programming convenient. But let start with creating a object. "
   ]
  },
  {
   "cell_type": "code",
   "execution_count": null,
   "metadata": {
    "collapsed": false
   },
   "outputs": [],
   "source": [
    "class Engine(object):\n",
    "    def __init__(self):\n",
    "        self.speed = 4\n",
    "    \n",
    "class Vehicle(object):\n",
    "    engine_type = Engine()\n",
    "    \n",
    "    def __init__(self, movement, engine_no=1):\n",
    "        self.movement = movement\n",
    "        self.engine_no = engine_no\n",
    "        \n",
    "        self.speed = self.engine_type.speed\n",
    "    \n",
    "    def turbo(self):\n",
    "        self.speed = self.speed * 2\n",
    "        \n",
    "    def brake(self):\n",
    "        self.speed = 0\n",
    "    \n",
    "    def start(self):\n",
    "        self.speed = engine_type.speed\n",
    "    \n",
    "car = Vehicle(\"roll\")\n",
    "    "
   ]
  },
  {
   "cell_type": "markdown",
   "metadata": {},
   "source": [
    "Now you have a car object. He're a few thing you can do. "
   ]
  },
  {
   "cell_type": "code",
   "execution_count": null,
   "metadata": {
    "collapsed": false
   },
   "outputs": [],
   "source": [
    "print(car.speed)\n",
    "car.turbo()\n",
    "print(car.speed)"
   ]
  },
  {
   "cell_type": "markdown",
   "metadata": {},
   "source": [
    "Here's the thing. There is specialized vehicle, so in OOP, you can create specialized object. In real life, it tend to be a specialized business object, special class to output to excel, special one for webpage etc. But all have something similar such as business rules. Because you are lazy, you can inherit from a base object. "
   ]
  },
  {
   "cell_type": "code",
   "execution_count": null,
   "metadata": {
    "collapsed": true
   },
   "outputs": [],
   "source": [
    "class V8Engine(Engine):\n",
    "    def __init__(self):\n",
    "        super(Engine, self).__init__()\n",
    "        self.speed = 8\n",
    "        \n",
    "        \n",
    "        \n",
    "class Car(Vehicle):\n",
    "    def __init__(self):\n",
    "        super(Car, self).__init__(\"roll\")\n",
    "        self.engine = V8Engine()\n",
    "    \n",
    "        self.wheel = 4\n",
    "        self.alarm = False\n",
    "    \n",
    "    def trigger_alarm(self):\n",
    "        self.alarm = True\n",
    "        \n",
    "    def sound_alarm(self):\n",
    "        if self.alarm:\n",
    "            return \"Ring!\"\n",
    "        return \"\"\n",
    "\n",
    "car = Car()\n",
    "car.brake()\n",
    "print(car.speed)\n",
    "        "
   ]
  },
  {
   "cell_type": "markdown",
   "metadata": {},
   "source": [
    "Notice a few thing here. \n",
    "\n",
    "1. Car did not have brake defined in the Car class. It is inheritted from Vehicle\n",
    "2. notice that I created some new method. \n",
    "3. finally your method is like a function. "
   ]
  },
  {
   "cell_type": "markdown",
   "metadata": {},
   "source": []
  }
 ],
 "metadata": {
  "anaconda-cloud": {},
  "kernelspec": {
   "display_name": "Python [default]",
   "language": "python",
   "name": "python3"
  },
  "language_info": {
   "codemirror_mode": {
    "name": "ipython",
    "version": 3
   },
   "file_extension": ".py",
   "mimetype": "text/x-python",
   "name": "python",
   "nbconvert_exporter": "python",
   "pygments_lexer": "ipython3",
   "version": "3.5.2"
  }
 },
 "nbformat": 4,
 "nbformat_minor": 1
}
