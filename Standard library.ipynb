{
 "cells": [
  {
   "cell_type": "markdown",
   "metadata": {
    "collapsed": true
   },
   "source": [
    "# Standard library\n",
    "\n",
    "Python comes with a comprehensive standard library, here is a few that I used most of the time"
   ]
  },
  {
   "cell_type": "markdown",
   "metadata": {},
   "source": [
    "## Datetime \n",
    "This is for datetime. It represent date, time ,timezone. "
   ]
  },
  {
   "cell_type": "code",
   "execution_count": 41,
   "metadata": {
    "collapsed": false
   },
   "outputs": [
    {
     "name": "stdout",
     "output_type": "stream",
     "text": [
      "2017-01-11\n",
      "2017-01-11 19:41:02.286610\n",
      "11\n",
      "1\n",
      "2017-01-11\n",
      "2017-11-20 00:00:30\n"
     ]
    }
   ],
   "source": [
    "import datetime\n",
    "\n",
    "today = datetime.date.today()\n",
    "now = datetime.datetime.now()\n",
    "a_day = datetime.date(2017,1, 11)\n",
    "a_time = datetime.datetime(2017,11,20,0,0,30)\n",
    "\n",
    "print(today)\n",
    "print(now)\n",
    "print(now.day)\n",
    "print(now.month)\n",
    "print(a_day)\n",
    "print(a_time)"
   ]
  },
  {
   "cell_type": "markdown",
   "metadata": {},
   "source": [
    "Here is a few operations you can do with datetime module"
   ]
  },
  {
   "cell_type": "code",
   "execution_count": 52,
   "metadata": {
    "collapsed": false,
    "scrolled": true
   },
   "outputs": [
    {
     "name": "stdout",
     "output_type": "stream",
     "text": [
      "2017-01-12\n",
      "2017-01-11 17:40:32.286610\n",
      "2017-01-10 19:41:02.286610\n",
      "2017-01-10 19:41:02.286610\n",
      "2017/01/10T19:41:1484048462\n"
     ]
    },
    {
     "data": {
      "text/plain": [
       "datetime.datetime(2017, 1, 1, 0, 0)"
      ]
     },
     "execution_count": 52,
     "metadata": {},
     "output_type": "execute_result"
    }
   ],
   "source": [
    "yesterday = today + datetime.timedelta(days=1)\n",
    "thirty_sec_ago = now - datetime.timedelta(seconds=30, hours=2)\n",
    "yesterday_now = now - datetime.timedelta(days=1)\n",
    "\n",
    "print(yesterday)\n",
    "print(thirty_sec_ago)\n",
    "print(yesterday_now)\n",
    "print(str(yesterday_now))\n",
    "print(yesterday_now.strftime(\"%Y/%m/%dT%H:%M:%s\"))\n",
    "datetime.datetime.strptime(\"2017-01-01\", \"%Y-%m-%d\")"
   ]
  },
  {
   "cell_type": "code",
   "execution_count": 46,
   "metadata": {
    "collapsed": false
   },
   "outputs": [],
   "source": [
    "datetime.datetime.strftime?\n"
   ]
  },
  {
   "cell_type": "markdown",
   "metadata": {},
   "source": [
    "## json\n",
    "This is how you process json file"
   ]
  },
  {
   "cell_type": "code",
   "execution_count": 57,
   "metadata": {
    "collapsed": false
   },
   "outputs": [
    {
     "name": "stdout",
     "output_type": "stream",
     "text": [
      "{'a': 1, 'now': datetime.datetime(2017, 1, 11, 19, 55, 26, 577637)}\n",
      "{\"now\": \"2017-01-11 19:55:26.578056\"}\n"
     ]
    }
   ],
   "source": [
    "import json\n",
    "\n",
    "gjs = json.load(open(\"kedah_par_2015.geojson\"))\n",
    "\n",
    "print(str({\"a\":1, \"now\": datetime.datetime.now()}))\n",
    "print(json.dumps({\"now\":str(datetime.datetime.now())}))"
   ]
  },
  {
   "cell_type": "markdown",
   "metadata": {},
   "source": [
    "## os\n",
    "This is a library to work with os level. It have a number of convenient function"
   ]
  },
  {
   "cell_type": "code",
   "execution_count": 62,
   "metadata": {
    "collapsed": false
   },
   "outputs": [
    {
     "name": "stdout",
     "output_type": "stream",
     "text": [
      "['fcitx-qimpanel:0.pid', '.font-unix', 'fcitx-socket-:0', 'systemd-private-741234f842b74d2ba60b4f00a5bd942a-redis-server.service-I9mqcP', '.com.google.Chrome.Mo2K5r', 'systemd-private-741234f842b74d2ba60b4f00a5bd942a-openvpn@client.service-FrujSy', 'systemd-private-741234f842b74d2ba60b4f00a5bd942a-tor@default.service-w7muNs', 'config-err-o6vsWl', 'iconcache-iBk5Xo', '.ICE-unix', 'systemd-private-741234f842b74d2ba60b4f00a5bd942a-rtkit-daemon.service-M0eQBk', 'tracker-extract-files.1000', 'orbit-sweemeng', 'sni-qt_python2.7_2266-9dYL1H', '.xfsm-ICE-P4BPTY', 'mongodb-27017.sock', '.XIM-unix', '.Test-unix', '.X11-unix', '.X0-lock', 'somefile2', 'systemd-private-741234f842b74d2ba60b4f00a5bd942a-colord.service-T44mDb']\n"
     ]
    },
    {
     "ename": "FileNotFoundError",
     "evalue": "[Errno 2] No such file or directory: 'somefile'",
     "output_type": "error",
     "traceback": [
      "\u001b[0;31m---------------------------------------------------------------------------\u001b[0m",
      "\u001b[0;31mFileNotFoundError\u001b[0m                         Traceback (most recent call last)",
      "\u001b[0;32m<ipython-input-62-84e0e5a817e5>\u001b[0m in \u001b[0;36m<module>\u001b[0;34m()\u001b[0m\n\u001b[1;32m      3\u001b[0m \u001b[0mprint\u001b[0m\u001b[0;34m(\u001b[0m\u001b[0mos\u001b[0m\u001b[0;34m.\u001b[0m\u001b[0mlistdir\u001b[0m\u001b[0;34m(\u001b[0m\u001b[0;34m\".\"\u001b[0m\u001b[0;34m)\u001b[0m\u001b[0;34m)\u001b[0m\u001b[0;34m\u001b[0m\u001b[0m\n\u001b[1;32m      4\u001b[0m \u001b[0mos\u001b[0m\u001b[0;34m.\u001b[0m\u001b[0mchdir\u001b[0m\u001b[0;34m(\u001b[0m\u001b[0;34m\"/tmp\"\u001b[0m\u001b[0;34m)\u001b[0m\u001b[0;34m\u001b[0m\u001b[0m\n\u001b[0;32m----> 5\u001b[0;31m \u001b[0mos\u001b[0m\u001b[0;34m.\u001b[0m\u001b[0mremove\u001b[0m\u001b[0;34m(\u001b[0m\u001b[0;34m\"somefile\"\u001b[0m\u001b[0;34m)\u001b[0m\u001b[0;34m\u001b[0m\u001b[0m\n\u001b[0m\u001b[1;32m      6\u001b[0m \u001b[0mos\u001b[0m\u001b[0;34m.\u001b[0m\u001b[0mmkdir\u001b[0m\u001b[0;34m(\u001b[0m\u001b[0;34m\"somedir\"\u001b[0m\u001b[0;34m)\u001b[0m\u001b[0;34m\u001b[0m\u001b[0m\n\u001b[1;32m      7\u001b[0m \u001b[0mos\u001b[0m\u001b[0;34m.\u001b[0m\u001b[0mremovedirs\u001b[0m\u001b[0;34m(\u001b[0m\u001b[0;34m\"/tmp/somedir\"\u001b[0m\u001b[0;34m)\u001b[0m\u001b[0;34m\u001b[0m\u001b[0m\n",
      "\u001b[0;31mFileNotFoundError\u001b[0m: [Errno 2] No such file or directory: 'somefile'"
     ]
    }
   ],
   "source": [
    "import os\n",
    "\n",
    "print(os.listdir(\".\"))\n",
    "os.chdir(\"/tmp\")\n",
    "os.remove(\"somefile\")\n",
    "os.mkdir(\"somedir\")\n",
    "os.removedirs(\"/tmp/somedir\")\n",
    "os.removedirs(\"/tmp/somefile2\")"
   ]
  },
  {
   "cell_type": "markdown",
   "metadata": {},
   "source": [
    "Working with path"
   ]
  },
  {
   "cell_type": "code",
   "execution_count": 64,
   "metadata": {
    "collapsed": false
   },
   "outputs": [
    {
     "name": "stdout",
     "output_type": "stream",
     "text": [
      "/tmp/somefile\n"
     ]
    }
   ],
   "source": [
    "import os.path\n",
    "print(os.path.join(\"/\", \"/tmp\", \"somefile\"))"
   ]
  },
  {
   "cell_type": "code",
   "execution_count": 84,
   "metadata": {
    "collapsed": false
   },
   "outputs": [
    {
     "name": "stdout",
     "output_type": "stream",
     "text": [
      "./2016-07-17 13.37.49.mp4\n",
      "./2016-10-16 04.56.24.mp4\n",
      "./2016-01-19 10.06.56.mp4\n",
      "./2016-01-19 10.27.47.mp4\n",
      "./2016-05-27 04.29.55.mp4\n",
      "./2016-10-04 08.51.10.mp4\n",
      "./2016-11-15 11.32.09.mp4\n",
      "./2016-10-16 04.55.53.mp4\n",
      "./2016-02-11 03.10.04.mp4\n",
      "./2016-10-15 03.16.42.mp4\n",
      "./2016-09-30 11.40.49.mp4\n"
     ]
    }
   ],
   "source": [
    "import os\n",
    "import os.path\n",
    "import glob\n",
    "path = os.path.join(\"/home\", \"sweemeng\", \"Dropbox\", \"Camera Uploads\")\n",
    "os.chdir(path)\n",
    "for i in glob.glob(\"./2016*.mp4\"):\n",
    "    print(i)"
   ]
  },
  {
   "cell_type": "markdown",
   "metadata": {},
   "source": [
    "## `argparse` module\n",
    "This is for passing parameter from scripts. "
   ]
  },
  {
   "cell_type": "code",
   "execution_count": null,
   "metadata": {
    "collapsed": true
   },
   "outputs": [],
   "source": [
    "from argparse import ArgumentParser\n",
    "\n",
    "def main():\n",
    "    parser = ArgumentParser(description=\"My Script\")\n",
    "    parser.add_argument(\"number\", nargs=\"+\", \n",
    "                        type=int, \n",
    "                        help=\"just a number\")\n",
    "    parser.add_argument(\"--string\", \n",
    "                        dest=\"argument_string\", \n",
    "                        type=str, help=\"just a string\")\n",
    "    \n",
    "    args=parser.parse_args()\n",
    "    print(args.number)\n",
    "    print(args.argument_string)\n",
    "\n",
    "if __name__ == \"__main__\":\n",
    "    main()\n",
    "    \n",
    "    "
   ]
  },
  {
   "cell_type": "markdown",
   "metadata": {},
   "source": [
    "## sqlite3\n",
    "It comes with an embedded database"
   ]
  },
  {
   "cell_type": "code",
   "execution_count": 88,
   "metadata": {
    "collapsed": false
   },
   "outputs": [],
   "source": [
    "import sqlite3\n",
    "\n",
    "db = sqlite3.connect(\"test.db\")\n",
    "c = db.cursor()\n",
    "c.execute(\"\"\"create table if not exists contact\n",
    "          (name text, email text)\"\"\")\n",
    "c.execute(\"insert into contact values (?, ?)\", \n",
    "          (\"sweemeng\", \"sweemeng@gmail.com\",))\n",
    "c.execute(\"insert into contact values (?, ?)\", \n",
    "          (\"james\", \"bond@gov.uk\",))\n",
    "db.commit()\n",
    "db.close()"
   ]
  },
  {
   "cell_type": "markdown",
   "metadata": {},
   "source": [
    "and you can query by"
   ]
  },
  {
   "cell_type": "code",
   "execution_count": 89,
   "metadata": {
    "collapsed": false
   },
   "outputs": [
    {
     "name": "stdout",
     "output_type": "stream",
     "text": [
      "('sweemeng', 'sweemeng@gmail.com')\n",
      "('james', 'bond@gov.uk')\n",
      "('sweemeng', 'sweemeng@gmail.com')\n",
      "('james', 'bond@gov.uk')\n",
      "('sweemeng', 'sweemeng@gmail.com')\n",
      "('james', 'bond@gov.uk')\n",
      "====\n",
      "('sweemeng', 'sweemeng@gmail.com')\n"
     ]
    }
   ],
   "source": [
    "db = sqlite3.connect(\"test.db\")\n",
    "c = db.cursor()\n",
    "for i in c.execute(\"select * from contact\"):\n",
    "    print(i)\n",
    "print(\"====\")\n",
    "c.execute(\"select * from contact where name=?\", (\"sweemeng\",))\n",
    "print(c.fetchone())\n",
    "db.close()"
   ]
  },
  {
   "cell_type": "markdown",
   "metadata": {
    "collapsed": true
   },
   "source": [
    "## Email\n",
    "you can mess with email. It is build in! It have SMTP, POP and also IMAP client. I stick with imap, because I like it"
   ]
  },
  {
   "cell_type": "code",
   "execution_count": 96,
   "metadata": {
    "collapsed": false
   },
   "outputs": [
    {
     "name": "stdout",
     "output_type": "stream",
     "text": [
      "b'Delivered-To: sweester@gmail.com\\r\\nReceived: by 10.129.29.9 with SMTP id d9csp1725771ywd;\\r\\n        Wed, 11 Jan 2017 04:55:55 -0800 (PST)\\r\\nX-Received: by 10.194.222.132 with SMTP id qm4mr6004617wjc.150.1484139355602;\\r\\n        Wed, 11 Jan 2017 04:55:55 -0800 (PST)\\r\\nReturn-Path: <noreply@twoomail.com>\\r\\nReceived: from mx03-3.netlogmail.com (mx03-3.netlogmail.com. [193.164.158.80])\\r\\n        by mx.google.com with ESMTPS id s62si4763807wms.127.2017.01.11.04.55.55\\r\\n        for <sweester@gmail.com>\\r\\n        (version=TLS1_2 cipher=ECDHE-RSA-AES128-GCM-SHA256 bits=128/128);\\r\\n        Wed, 11 Jan 2017 04:55:55 -0800 (PST)\\r\\nReceived-SPF: pass (google.com: domain of noreply@twoomail.com designates 193.164.158.80 as permitted sender) client-ip=193.164.158.80;\\r\\nAuthentication-Results: mx.google.com;\\r\\n       dkim=pass header.i=@twoomail.com;\\r\\n       spf=pass (google.com: domain of noreply@twoomail.com designates 193.164.158.80 as permitted sender) smtp.mailfrom=noreply@twoomail.com;\\r\\n       dmarc=pass (p=NONE sp=NONE dis=NONE) header.from=twoomail.com\\r\\nReturn-Path: <noreply@twoomail.com>\\r\\nDKIM-Signature: v=1; a=rsa-sha256; d=twoomail.com; s=twoo; c=relaxed/simple;\\r\\n\\tq=dns/txt; i=@twoomail.com; t=1484139355;\\r\\n\\th=From:Subject:Date:To:MIME-Version:Content-Type;\\r\\n\\tbh=vXbRm0c2HanjTrf4oqlukHWoDy9oC1SDB8FXR/VyTTs=;\\r\\n\\tb=2yzfaNtIY9CUARM0rsMz9jQIRwNPwN1f84oY3HC+bzXTqZgkqMER1JMcPtJF6Q8f\\r\\n\\tYKunWpOasyCvRI1Y62Cn9UJy87kWm/xKw+mA/NJ/jf0OdPiBf/1LyeZ1I2yxRK2S\\r\\n\\tpfkOBCDQ3BmbTPLpPoAXtsL2dbkPm9ZAnChW/oZqRpw=;\\r\\nReceived: from [192.168.10.44] ([192.168.10.44:33198] helo=cron044)\\r\\n\\tby mail02 (envelope-from <noreply@twoomail.com>)\\r\\n\\t(ecelerity 3.6.23.54417 r(Core:3.6.23.0)) with ESMTP\\r\\n\\tid D7/99-03326-B5B26785; Wed, 11 Jan 2017 12:55:55 +0000\\r\\nFrom: \"Twoo\" <noreply@twoomail.com>\\r\\nMessage-ID: <D7.99.03326.B5B26785@mail02>\\r\\nTo: \"sweester@gmail.com\" <sweester@gmail.com>\\r\\nReply-To: \"noreply@twoomail.com\" <noreply@twoomail.com>\\r\\nSender: noreply@twoomail.com\\r\\nSubject: =?UTF-8?B?4piFIENvbnRpbnVlIGNoYXR0aW5nIHdpdGggU3lhIGZyb20gS2FqYW5nIQ==?=\\r\\nList-Unsubscribe: <mailto:unsubscribe+d8ce2ed746eb1618982c8fdfe9582725@unsubscribe.twoo.com?subject=-6aWQ9NzF0aDZwLG1taWQ9MWZ5LTcxdGg2cC01eHZkbjlrbi1jNDQsYXBwaWQ9Mix0PTU3NyxzPTIsdj0xLHU9MjEyNzY4MjY3LGY9MjUyNjQzNDM4LGQ9MTQ4NDEzOTM1NSxtPXA=>, <https://www.twoo.com/mailurl/aT0xZnktNzF0aDZwLTV4dmRuOWtuLWM0NCZsPTEmdT0lMkZzZXR0aW5ncyUyRmVtYWlscyUyRiUzRnZpZXclM0R1bnN1YnNjcmliZSUyNmFjdGlvbiUzRHVuc3Vic2NyaWJlRnJvbVR5cGUlMjZ2YWx1ZSUzRE5PJTI2dHlwZWlkJTNENSUyNnNraXBTcGxhc2glM0RtYWlsJnQ9NTc3Jm1nPXNwcmluZ21lJnVpPTE0ODQxMzkzNTUyLTQyNjMxODE0NS01NzclMkYyJTJGMSUyRjY5MCZhPW5jcWd0eV8zYjdkNmE0MjI2>\\r\\nDate: Wed, 11 Jan 2017 12:55:55 +0000\\r\\nX-MM-ID: -6aWQ9NzF0aDZwLG1taWQ9MWZ5LTcxdGg2cC01eHZkbjlrbi1jNDQsYXBwaWQ9Mix0PTU3NyxzPTIsdj0xLHU9MjEyNzY4MjY3LGY9MjUyNjQzNDM4LGQ9MTQ4NDEzOTM1NSxtPXA=\\r\\nX-rpcampaign: Twoo5770020011\\r\\nx-mm-header: Z21haWwsbm90aWZpY2F0aW9uLHJldHVybnBhdGhfZ21haWwsVHdvbyw2Miw2Miw1NzcsMiwxLEFTLG15LHNwcmluZ21lLHNwcmluZ21lLDUsMywzLDIsZW4sLFVOS05PV04sMjEyNzY4MjY3LDI1MjY0MzQzOCw0MjYzMTgxNDUsMTQ4NDEzOTM1NSwxZnktNzF0aDZwLTV4dmRuOWtuLWM0NCwxNDc4NzQ0MTAwLDE0Nzg3NDQxMzYsMzIsMTQzNzE3Njg3NSwxLDE0ODQxMzkzNTUyLTQyNjMxODE0NS01NzcvMi8xLzY5MA==\\r\\nMIME-Version: 1.0\\r\\nContent-Type: multipart/alternative; boundary=\"massivemedia_6d0617373369766566d6564969618e03e\"\\r\\n\\r\\nThis is a multi-part message in MIME format.\\r\\n\\r\\n--massivemedia_6d0617373369766566d6564969618e03e\\r\\nContent-Type: text/plain; charset=utf-8\\r\\nContent-Transfer-Encoding: 7bit\\r\\n\\r\\n  ( https://www.twoo.com/mailurl/aT0xZnktNzF0aDZwLTV4dmRuOWtuLWM0NCZsPTgmdT0lMkYyMDc1OTk1NTQzJTNGbXRpZCUzRDU3NyZ0PTU3NyZtZz1zcHJpbmdtZSZ1aT0xNDg0MTM5MzU1Mi00MjYzMTgxNDUtNTc3JTJGMiUyRjElMkY2OTAmYT1uY3FndHlfM2I3ZDZhNDIyNg )  \\r\\nSya ( https://www.twoo.com/mailurl/aT0xZnktNzF0aDZwLTV4dmRuOWtuLWM0NCZsPTgmdT0lMkYyMDc1OTk1NTQzJTNGbXRpZCUzRDU3NyZ0PTU3NyZtZz1zcHJpbmdtZSZ1aT0xNDg0MTM5MzU1Mi00MjYzMTgxNDUtNTc3JTJGMiUyRjElMkY2OTAmYT1uY3FndHlfM2I3ZDZhNDIyNg ) replied to your message.\\r\\n\\r\\nCheck out her message ( https://www.twoo.com/mailurl/aT0xZnktNzF0aDZwLTV4dmRuOWtuLWM0NCZsPTEwJnU9JTJGbWVzc2FnZXMlMkYlM0ZpZCUzRDIwNzU5OTU1NDMlMjZtdGlkJTNENTc3JnQ9NTc3Jm1nPXNwcmluZ21lJnVpPTE0ODQxMzkzNTUyLTQyNjMxODE0NS01NzclMkYyJTJGMSUyRjY5MCZhPW5jcWd0eV8zYjdkNmE0MjI2 ) \\r\\n\\r\\n    \\r\\n\\r\\n Twoo ( https://www.twoo.com/mailurl/aT0xZnktNzF0aDZwLTV4dmRuOWtuLWM0NCZsPTExJnU9JTJGJnQ9NTc3Jm1nPXNwcmluZ21lJnVpPTE0ODQxMzkzNTUyLTQyNjMxODE0NS01NzclMkYyJTJGMSUyRjY5MCZhPW5jcWd0eV8zYjdkNmE0MjI2 )  You received this notification because you are registered as Sweemeng (sweester@gmail.com ( https://www.twoo.com/mailurl/aT0xZnktNzF0aDZwLTV4dmRuOWtuLWM0NCZsPTExJnU9JTJGJnQ9NTc3Jm1nPXNwcmluZ21lJnVpPTE0ODQxMzkzNTUyLTQyNjMxODE0NS01NzclMkYyJTJGMSUyRjY5MCZhPW5jcWd0eV8zYjdkNmE0MjI2 )) on Twoo - Unsubscribe ( https://www.twoo.com/mailurl/aT0xZnktNzF0aDZwLTV4dmRuOWtuLWM0NCZsPTEzJnU9JTJGc2V0dGluZ3MlMkZlbWFpbHMlMkYlM0Z2aWV3JTNEdW5zdWJzY3JpYmUlMjZhY3Rpb24lM0R1bnN1YnNjcmliZUZyb21UeXBlJTI2dmFsdWUlM0ROTyUyNnR5cGVpZCUzRDUlMjZza2lwU3BsYXNoJTNEbWFpbCZ0PTU3NyZtZz1zcHJpbmdtZSZ1aT0xNDg0MTM5MzU1Mi00MjYzMTgxNDUtNTc3JTJGMiUyRjElMkY2OTAmYT1uY3FndHlfM2I3ZDZhNDIyNg ).Massive Media Match NV, Emile Braunplein 18, 9000 Ghent, BelgiumBE0537240636.info-en@twoo.com ( mailto:info-en@twoo.com )   \\r\\n--massivemedia_6d0617373369766566d6564969618e03e\\r\\nContent-Type: text/html; charset=utf-8\\r\\nContent-Transfer-Encoding: 7bit\\r\\n\\r\\n<!DOCTYPE HTML PUBLIC \"-//W3C//DTD HTML 3.2 Final//EN\"><html><head><title>\\xe2\\x98\\x85 Continue chatting with Sya from Kajang!</title>\\r\\n\\r\\n</head><body topmargin=\\'0\\' bottommargin=\\'0\\' align=\\'center\\' leftmargin=\\'0\\' rightmargin=\\'0\\' style=\\'-webkit-font-smoothing: antialiased;width:100% !important;background:#f3f3f3;-webkit-text-size-adjust:none;color: #333333;font-size:16px;font-family:Helvetica Nueue, Helvetica, Arial, sans-serif;\\'><span style=\"display:none!important;mso-hide: all;\">Sya sent you a new private message on Twoo</span>\\r\\n<table class=\"table\" align=\"center\" width=\"640\" cellpadding=\"0\" cellspacing=\"0\" style=\"background: #FFFFFF;\">\\r\\n<tr>\\r\\n<td height=\"5\" style=\"background: #f4751e; width:100%;\"></td>\\r\\n</tr>\\r\\n<tr>\\r\\n<td height=\"20\"></td>\\r\\n</tr>\\r\\n<tr>\\r\\n<td valign=\"top\" style=\"padding: 0 20px;\">\\r\\n<table width=\"100%\" cellpadding=\"0\" cellspacing=\"0\">\\r\\n<tr>\\r\\n<td style=\"width: 100px;\">\\r\\n<a href=\"https://www.twoo.com/mailurl/aT0xZnktNzF0aDZwLTV4dmRuOWtuLWM0NCZsPTImdT0lMkYyMDc1OTk1NTQzJTNGbXRpZCUzRDU3NyZ0PTU3NyZtZz1zcHJpbmdtZSZ1aT0xNDg0MTM5MzU1Mi00MjYzMTgxNDUtNTc3JTJGMiUyRjElMkY2OTAmYT1uY3FndHlfM2I3ZDZhNDIyNg\" style=\"text-decoration: none; border: 0;\">\\r\\n<img src=\"http://twoo01-a.akamaihd.net/t/932fa25a51a272efbe2742a5cd398619_1_6_0_552_574_180_180_0001359247.jpg\" alt=\" \" style=\"height: 100px; width: 100px;\" valign=\"middle\" border=\"0\" />\\r\\n</a>\\r\\n</td>\\r\\n<td width=\"20\"></td>\\r\\n<td valign=\"top\">\\r\\n<p style=\"font-family: Helvetica Nueue, Helvetica, Arial, sans-serif; font-size: 18px;margin: 0; padding-bottom: 20px; color: #333333;\">\\r\\n<a href=\"https://www.twoo.com/mailurl/aT0xZnktNzF0aDZwLTV4dmRuOWtuLWM0NCZsPTImdT0lMkYyMDc1OTk1NTQzJTNGbXRpZCUzRDU3NyZ0PTU3NyZtZz1zcHJpbmdtZSZ1aT0xNDg0MTM5MzU1Mi00MjYzMTgxNDUtNTc3JTJGMiUyRjElMkY2OTAmYT1uY3FndHlfM2I3ZDZhNDIyNg\" style=\"font-weight: bold; color: #1155cc;\">Sya</a> replied to your message.\\r\\n</p>\\r\\n<table cellspacing=\"0\" cellpadding=\"0\">\\r\\n<tr>\\r\\n<td bgcolor=\"#178ef5\" valign=\"middle\" style=\"background:#56c218; border-bottom:3px solid #dddddd;border-radius:5px;-moz-border-radius:5px;-webkit-border-radius:5px;\">\\r\\n<a href=\"https://www.twoo.com/mailurl/aT0xZnktNzF0aDZwLTV4dmRuOWtuLWM0NCZsPTQmdT0lMkZtZXNzYWdlcyUyRiUzRmlkJTNEMjA3NTk5NTU0MyUyNm10aWQlM0Q1NzcmdD01NzcmbWc9c3ByaW5nbWUmdWk9MTQ4NDEzOTM1NTItNDI2MzE4MTQ1LTU3NyUyRjIlMkYxJTJGNjkwJmE9bmNxZ3R5XzNiN2Q2YTQyMjY\" style=\"color:#FFFFFF;font-size:16px;line-height:16px;text-decoration:none;padding: 10px 15px;display:block;font-weight: bold;\">\\r\\nCheck out her message\\r\\n</a>\\r\\n</td>\\r\\n</tr>\\r\\n</table>\\r\\n</td>\\r\\n</tr>\\r\\n</table>\\r\\n</td>\\r\\n</tr>\\r\\n<tr>\\r\\n<td height=\"20\"></td>\\r\\n</tr>\\r\\n<tr>\\r\\n<td height=\"1\">\\r\\n<table width=\"100%\" cellpadding=\"0\" cellspacing=\"0\" height=\"1\">\\r\\n<tr>\\r\\n<td width=\"20\"></td>\\r\\n<td width=\"540\" height=\"1\" style=\"background: #e6e6e6;\"></td>\\r\\n<td width=\"20\"></td>\\r\\n</tr>\\r\\n</table>\\r\\n</td>\\r\\n</tr>\\r\\n<tr>\\r\\n<td height=\"20\"></td>\\r\\n</tr>\\r\\n<tr>\\r\\n<td style=\"font-size:10px; color:#333333; padding:0 20px;\">\\r\\n<a href=\"https://www.twoo.com/mailurl/aT0xZnktNzF0aDZwLTV4dmRuOWtuLWM0NCZsPTUmdT0lMkYmdD01NzcmbWc9c3ByaW5nbWUmdWk9MTQ4NDEzOTM1NTItNDI2MzE4MTQ1LTU3NyUyRjIlMkYxJTJGNjkwJmE9bmNxZ3R5XzNiN2Q2YTQyMjY\">\\r\\n<img id=\"logo\" alt=\"Twoo\" height=\"30\" src=\"http://twoo-a.akamaihd.net/static/073612115967895741/images/logos/logo-twoo-springme.png\" />\\r\\n</a>\\r\\n</td>\\r\\n</tr>\\r\\n<tr>\\r\\n<td height=\"10\"></td>\\r\\n</tr>\\r\\n<tr>\\r\\n<td width=\"100%\" style=\"font-family: Arial,Helvetica,sans-serif;font-size: 11px;color: #777777;padding:0 20px;\">\\r\\nYou received this notification because you are registered as Sweemeng (<a href=\"https://www.twoo.com/mailurl/aT0xZnktNzF0aDZwLTV4dmRuOWtuLWM0NCZsPTUmdT0lMkYmdD01NzcmbWc9c3ByaW5nbWUmdWk9MTQ4NDEzOTM1NTItNDI2MzE4MTQ1LTU3NyUyRjIlMkYxJTJGNjkwJmE9bmNxZ3R5XzNiN2Q2YTQyMjY\" style=\"color: #1155cc\">sweester@gmail.com</a>) on Twoo - <a  href=\"https://www.twoo.com/mailurl/aT0xZnktNzF0aDZwLTV4dmRuOWtuLWM0NCZsPTcmdT0lMkZzZXR0aW5ncyUyRmVtYWlscyUyRiUzRnZpZXclM0R1bnN1YnNjcmliZSUyNmFjdGlvbiUzRHVuc3Vic2NyaWJlRnJvbVR5cGUlMjZ2YWx1ZSUzRE5PJTI2dHlwZWlkJTNENSUyNnNraXBTcGxhc2glM0RtYWlsJnQ9NTc3Jm1nPXNwcmluZ21lJnVpPTE0ODQxMzkzNTUyLTQyNjMxODE0NS01NzclMkYyJTJGMSUyRjY5MCZhPW5jcWd0eV8zYjdkNmE0MjI2\" style=\"color: #1155cc;\">Unsubscribe</a>.\\r\\n<strong>Massive Media Match NV</strong>, Emile Braunplein 18, 9000 Ghent, Belgium\\r\\n\\r\\nBE0537240636.\\r\\n<a href=\"mailto:info-en@twoo.com\" style=\"color: #6D7C85; text-decoration: underline;\">info-en@twoo.com</a>\\r\\n</td>\\r\\n</tr>\\r\\n<tr>\\r\\n<td height=\"20\"></td>\\r\\n</tr>\\r\\n<tr>\\r\\n<td height=\"20\" style=\"background-color: #f3f3f3;\"></td>\\r\\n</tr>\\r\\n</table>\\r\\n<img src=\"https://www.twoo.com/mailimage/aT0xZnktNzF0aDZwLTV4dmRuOWtuLWM0NCZ0PTU3NyZtZz1zcHJpbmdtZSZ1aT0xNDg0MTM5MzU1Mi00MjYzMTgxNDUtNTc3JTJGMiUyRjElMkY2OTAmYT1uY3FndHlfM2I3ZDZhNDIyNg.gif\" border=\"0\" width=\"1\" height=\"1\" /></body></html>\\r\\n--massivemedia_6d0617373369766566d6564969618e03e--\\r\\n\\r\\n'\n"
     ]
    }
   ],
   "source": [
    "import imaplib\n",
    "\n",
    "mail = imaplib.IMAP4_SSL('imap.gmail.com')\n",
    "mail.login(\"sweester@gmail.com\", \"otqpgwnupbpjbunj\")\n",
    "#print(mail.list())\n",
    "mail.select(\"INBOX\")\n",
    "result, data = mail.search(None, \"ALL\")\n",
    "latest_email_id = data[0].split()[-1]\n",
    "result, data = mail.fetch(latest_email_id,\"(RFC822)\")\n",
    "print(data[0][1])\n",
    "msg = data[0][1]"
   ]
  },
  {
   "cell_type": "markdown",
   "metadata": {},
   "source": [
    "Not the easiest thing to read, there is a email parser in the standard library"
   ]
  },
  {
   "cell_type": "code",
   "execution_count": 99,
   "metadata": {
    "collapsed": false
   },
   "outputs": [
    {
     "name": "stdout",
     "output_type": "stream",
     "text": [
      "\"sweester@gmail.com\" <sweester@gmail.com>\n",
      "\"Twoo\" <noreply@twoomail.com>\n",
      "['Delivered-To', 'Received', 'X-Received', 'Return-Path', 'Received', 'Received-SPF', 'Authentication-Results', 'Return-Path', 'DKIM-Signature', 'Received', 'From', 'Message-ID', 'To', 'Reply-To', 'Sender', 'Subject', 'List-Unsubscribe', 'Date', 'X-MM-ID', 'X-rpcampaign', 'x-mm-header', 'MIME-Version', 'Content-Type']\n",
      "=?UTF-8?B?4piFIENvbnRpbnVlIGNoYXR0aW5nIHdpdGggU3lhIGZyb20gS2FqYW5nIQ==?=\n"
     ]
    }
   ],
   "source": [
    "import email\n",
    "\n",
    "email_msg = email.message_from_bytes(msg)\n",
    "print(email_msg[\"to\"])\n",
    "print(email_msg[\"from\"])\n",
    "print(email_msg.keys())\n",
    "print(email_msg[\"Subject\"])"
   ]
  },
  {
   "cell_type": "code",
   "execution_count": 100,
   "metadata": {
    "collapsed": false
   },
   "outputs": [
    {
     "name": "stdout",
     "output_type": "stream",
     "text": [
      "The Zen of Python, by Tim Peters\n",
      "\n",
      "Beautiful is better than ugly.\n",
      "Explicit is better than implicit.\n",
      "Simple is better than complex.\n",
      "Complex is better than complicated.\n",
      "Flat is better than nested.\n",
      "Sparse is better than dense.\n",
      "Readability counts.\n",
      "Special cases aren't special enough to break the rules.\n",
      "Although practicality beats purity.\n",
      "Errors should never pass silently.\n",
      "Unless explicitly silenced.\n",
      "In the face of ambiguity, refuse the temptation to guess.\n",
      "There should be one-- and preferably only one --obvious way to do it.\n",
      "Although that way may not be obvious at first unless you're Dutch.\n",
      "Now is better than never.\n",
      "Although never is often better than *right* now.\n",
      "If the implementation is hard to explain, it's a bad idea.\n",
      "If the implementation is easy to explain, it may be a good idea.\n",
      "Namespaces are one honking great idea -- let's do more of those!\n"
     ]
    }
   ],
   "source": [
    "import this"
   ]
  },
  {
   "cell_type": "markdown",
   "metadata": {},
   "source": [
    "Just take https://docs.python.org/3/library/"
   ]
  }
 ],
 "metadata": {
  "anaconda-cloud": {},
  "kernelspec": {
   "display_name": "Python [default]",
   "language": "python",
   "name": "python3"
  },
  "language_info": {
   "codemirror_mode": {
    "name": "ipython",
    "version": 3
   },
   "file_extension": ".py",
   "mimetype": "text/x-python",
   "name": "python",
   "nbconvert_exporter": "python",
   "pygments_lexer": "ipython3",
   "version": "3.5.2"
  }
 },
 "nbformat": 4,
 "nbformat_minor": 1
}
